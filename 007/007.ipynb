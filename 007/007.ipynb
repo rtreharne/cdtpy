{
 "cells": [
  {
   "cell_type": "markdown",
   "metadata": {},
   "source": [
    "<h1>Live Fast, Diode Young</h1>"
   ]
  },
  {
   "cell_type": "code",
   "execution_count": 1,
   "metadata": {
    "collapsed": false
   },
   "outputs": [
    {
     "name": "stdout",
     "output_type": "stream",
     "text": [
      "Populating the interactive namespace from numpy and matplotlib\n"
     ]
    }
   ],
   "source": [
    "%pylab inline\n",
    "import getdata as gd"
   ]
  },
  {
   "cell_type": "markdown",
   "metadata": {},
   "source": [
    "<h3>Objective:</h3>\n",
    "    <p>Read the data from 'jv.txt'</p>"
   ]
  },
  {
   "cell_type": "code",
   "execution_count": 2,
   "metadata": {
    "collapsed": false
   },
   "outputs": [],
   "source": [
    "#From the get_data.py script I used for 006\n",
    "d = gd.data_dict('jv.txt', delim=' ')"
   ]
  },
  {
   "cell_type": "code",
   "execution_count": 3,
   "metadata": {
    "collapsed": false
   },
   "outputs": [],
   "source": [
    "#Set data and header lists\n",
    "data = d.get('data', None)\n",
    "headers = d.get('headers', None)"
   ]
  },
  {
   "cell_type": "markdown",
   "metadata": {},
   "source": [
    "<h3>Objective 2:</h3>\n",
    "<p>Extract J<sub>SC</sub>, V<sub>OC</sub>, FF and Efficiency</p>"
   ]
  },
  {
   "cell_type": "code",
   "execution_count": 4,
   "metadata": {
    "collapsed": false
   },
   "outputs": [],
   "source": [
    "#First thing's first - convert y data from Amps to mA/cm^2\n",
    "#In this case the cell area is 0.25cm^2\n",
    "#i.e. multiply by 1000 and divie by 0.25\n",
    "y = array(data[1])*1000/.25 #need to use array() here to multiply list by scalar\n",
    "y = y*-1 #I'll do this so that my extracted Jsc is +ve\n",
    "x = array(data[0])"
   ]
  },
  {
   "cell_type": "code",
   "execution_count": 5,
   "metadata": {
    "collapsed": false
   },
   "outputs": [],
   "source": [
    "#Get Jsc\n",
    "#y = Jsc when x = 0\n",
    "\n",
    "#get the index of x that is closest to zero\n",
    "idx = abs(x-0).argmin()\n",
    "\n",
    "#get value of y at idx - this is the jsc\n",
    "jsc = y[idx]"
   ]
  },
  {
   "cell_type": "code",
   "execution_count": 6,
   "metadata": {
    "collapsed": false
   },
   "outputs": [],
   "source": [
    "#Get Voc\n",
    "#x = Voc when y = 0\n",
    "\n",
    "#This is a bit tricker because I don't have a value for x(y=0)\n",
    "#I'll interpolate my data to get a value y as close to 0 as possible\n",
    "\n",
    "xi = linspace(-1, 1, 10000)\n",
    "yi = interp(xi, x, y)\n",
    "\n",
    "idy = abs(yi-0).argmin()\n",
    "voc = xi[idy]"
   ]
  },
  {
   "cell_type": "code",
   "execution_count": 7,
   "metadata": {
    "collapsed": false
   },
   "outputs": [],
   "source": [
    "#GET FF\n",
    "\n",
    "#FF = Pmax/(Jsc*Voc)\n",
    "\n",
    "#create Power array\n",
    "P = xi*yi\n",
    "\n",
    "#find the index of P that contains the largest value (max Power)\n",
    "idp = list(P).index(P.max())\n",
    "\n",
    "#calculate FF\n",
    "FF = P[idp]/(jsc*voc)"
   ]
  },
  {
   "cell_type": "code",
   "execution_count": 8,
   "metadata": {
    "collapsed": false
   },
   "outputs": [],
   "source": [
    "#Assuming input spectrum is AM1.5 (i.e. 1000W/m^2)\n",
    "\n",
    "#Eff = Jsc*Voc*FF\n",
    "\n",
    "Eff = jsc*voc*FF"
   ]
  },
  {
   "cell_type": "code",
   "execution_count": 10,
   "metadata": {
    "collapsed": false
   },
   "outputs": [
    {
     "name": "stdout",
     "output_type": "stream",
     "text": [
      "Jsc = 15.36 mA/cm^2, FF = 61.05 (%), Eff = 5.90 (%)\n"
     ]
    }
   ],
   "source": [
    "print('Jsc = {0:.2f} mA/cm^2, FF = {2:.2f} (%), Eff = {3:.2f} (%)'.format(jsc, voc, FF*100, Eff))"
   ]
  },
  {
   "cell_type": "code",
   "execution_count": 11,
   "metadata": {
    "collapsed": true
   },
   "outputs": [],
   "source": [
    "params = {'jsc': jsc,\n",
    "          'voc': voc,\n",
    "          'FF': FF,\n",
    "          'Eff': Eff}"
   ]
  },
  {
   "cell_type": "code",
   "execution_count": 12,
   "metadata": {
    "collapsed": false
   },
   "outputs": [
    {
     "data": {
      "text/plain": [
       "{'Eff': 5.8971038296205904,\n",
       " 'FF': 0.61054513127097976,\n",
       " 'jsc': 15.356631949543953,\n",
       " 'voc': 0.62896289628962898}"
      ]
     },
     "execution_count": 12,
     "metadata": {},
     "output_type": "execute_result"
    }
   ],
   "source": [
    "params"
   ]
  },
  {
   "cell_type": "code",
   "execution_count": 13,
   "metadata": {
    "collapsed": true
   },
   "outputs": [],
   "source": [
    "#Can put all this into a single function\n",
    "def jvrip(d, area=0.25):\n",
    "    data = d.get('data')\n",
    "    \n",
    "    y = array(data[1])*1000/area #need to use array() here to multiply list by scalar\n",
    "    y = y*-1 #I'll do this so that my extracted Jsc is +ve\n",
    "    x = array(data[0])\n",
    "    \n",
    "    xi = linspace(-1, 1, 1e4)\n",
    "    yi = interp(xi, x, y)\n",
    "    \n",
    "    #jsc\n",
    "    idx = abs(xi-0).argmin()\n",
    "    jsc = yi[idx]\n",
    "    \n",
    "    #voc    \n",
    "    idy = abs(yi-0).argmin()\n",
    "    voc = xi[idy]\n",
    "    \n",
    "    #FF\n",
    "    P = xi*yi\n",
    "    idp = list(P).index(P.max())\n",
    "    FF = P[idp]/(jsc*voc)\n",
    "    \n",
    "    #Eff\n",
    "    Eff = jsc*voc*FF\n",
    "    \n",
    "    return {'jsc': jsc,\n",
    "            'voc': voc,\n",
    "            'FF': FF,\n",
    "            'Eff': Eff} "
   ]
  },
  {
   "cell_type": "code",
   "execution_count": 14,
   "metadata": {
    "collapsed": false
   },
   "outputs": [],
   "source": [
    "p = jvrip(d)"
   ]
  },
  {
   "cell_type": "code",
   "execution_count": 15,
   "metadata": {
    "collapsed": false
   },
   "outputs": [
    {
     "data": {
      "text/plain": [
       "<matplotlib.text.Annotation at 0x7fb556db49b0>"
      ]
     },
     "execution_count": 15,
     "metadata": {},
     "output_type": "execute_result"
    },
    {
     "data": {
      "image/png": "[encoded data removed]",
      "text/plain": [
       "<matplotlib.figure.Figure at 0x7fb558e48ba8>"
      ]
     },
     "metadata": {},
     "output_type": "display_data"
    }
   ],
   "source": [
    "#You can put all this onto a JV curve plot\n",
    "fig = figure()\n",
    "ax = fig.add_subplot(111)\n",
    "l1, = ax.plot(xi,yi,'-',color='blue')\n",
    "yrange = max(yi)-min(yi)\n",
    "ylim = [0, max(yi)*1.1]\n",
    "ax.set_ylim(ylim)\n",
    "ax.set_xlim([0,1])\n",
    "ax.set_xlabel('$V$, volts')\n",
    "ax.set_ylabel('$J$, mA.cm$^{2}$')\n",
    "text = 'Eff: {0:.2f} (%)\\nJsc: {1:.2f} (ma/cm^2)\\nVoc: {2:.2f} V\\nFF: {3:.2f} (%)'.format(p.get('Eff'), p.get('jsc'), p.get('voc'), p.get('FF')*100)\n",
    "ax.annotate(text, xy=(0.05, 0.4), xycoords='axes fraction')"
   ]
  }
 ],
 "metadata": {
  "kernelspec": {
   "display_name": "IPython (Python 3)",
   "language": "python",
   "name": "python3"
  },
  "language_info": {
   "codemirror_mode": {
    "name": "ipython",
    "version": 3
   },
   "file_extension": ".py",
   "mimetype": "text/x-python",
   "name": "python",
   "nbconvert_exporter": "python",
   "pygments_lexer": "ipython3",
   "version": "3.5.2"
  },
  "widgets": {
   "state": {},
   "version": "1.1.2"
  }
 },
 "nbformat": 4,
 "nbformat_minor": 0
}
