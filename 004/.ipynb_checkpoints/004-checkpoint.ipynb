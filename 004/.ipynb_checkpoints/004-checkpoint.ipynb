{
 "cells": [
  {
   "cell_type": "markdown",
   "metadata": {},
   "source": [
    "<h1>Splitsville</h1>"
   ]
  },
  {
   "cell_type": "code",
   "execution_count": null,
   "metadata": {
    "collapsed": false
   },
   "outputs": [],
   "source": [
    "%pylab"
   ]
  },
  {
   "cell_type": "code",
   "execution_count": null,
   "metadata": {
    "collapsed": true
   },
   "outputs": [],
   "source": [
    "import csv"
   ]
  },
  {
   "cell_type": "markdown",
   "metadata": {},
   "source": [
    "<h3>Objective 1:</h3>\n",
    "\n",
    "Split the file 'raw_data.csv' into separate files that each contain a single x (wavelength) and y (transmittance) column."
   ]
  },
  {
   "cell_type": "code",
   "execution_count": null,
   "metadata": {
    "collapsed": false
   },
   "outputs": [],
   "source": [
    "f = open('raw_data.csv', 'rb')\n",
    "reader = csv.reader(f)\n",
    "data = []\n",
    "for line in reader:\n",
    "    data.append(line)\n",
    "data = [[float(y) for y in x] for x in transpose(data)]"
   ]
  },
  {
   "cell_type": "code",
   "execution_count": null,
   "metadata": {
    "collapsed": false
   },
   "outputs": [],
   "source": [
    "#How many data columns do I have (including wavelength column)?\n",
    "len(data)\n",
    "print data[144]"
   ]
  },
  {
   "cell_type": "code",
   "execution_count": null,
   "metadata": {
    "collapsed": false
   },
   "outputs": [],
   "source": [
    "headers = ['$\\\\lambda$ $(nm)$', '$T$'] #headers for top of .csv file\n",
    "for i in range (0,len(data)-1): #loop for number of data columns (not including wavelength column)\n",
    "    filename = 'data/{0}.csv'.format(str(i+1).zfill(3)) #generate three digit numbers for filename\n",
    "    newf = open(filename, 'wb')\n",
    "    writer = csv.writer(newf, delimiter=',')\n",
    "    new = transpose([data[0], data[i+1]]) #split data into single x and y column and re-transpose\n",
    "    print filename\n",
    "    \n",
    "    writer.writerow(headers) #write headers to file\n",
    "\n",
    "    #write all data to new file\n",
    "    for line in new:\n",
    "        writer.writerow(line)"
   ]
  },
  {
   "cell_type": "markdown",
   "metadata": {},
   "source": [
    "<h3>Objective 2:</h3>\n",
    "\n",
    "Plot a subset of the data files on the same figure (e.g. every twelfth file)"
   ]
  },
  {
   "cell_type": "code",
   "execution_count": null,
   "metadata": {
    "collapsed": false
   },
   "outputs": [],
   "source": [
    "#Get all the .csv filenames in folder 'data' into a list\n",
    "import glob #glob is the man for the job here\n",
    "filenames = glob.glob('data/*.csv')\n",
    "filenames.sort()\n",
    "print len(filenames)"
   ]
  },
  {
   "cell_type": "code",
   "execution_count": null,
   "metadata": {
    "collapsed": false
   },
   "outputs": [],
   "source": [
    "#define your get_data method again\n",
    "def get_data(filename):\n",
    "    \n",
    "    data = []\n",
    "    \n",
    "    with open(filename, 'r') as f:\n",
    "        reader = csv.reader(f)\n",
    "        header = next(reader)\n",
    "        for line in reader:\n",
    "        \n",
    "                \n",
    "            data.append(line)\n",
    "    return transpose(data)\n",
    "\n",
    "    \n",
    "    "
   ]
  },
  {
   "cell_type": "code",
   "execution_count": null,
   "metadata": {
    "collapsed": false
   },
   "outputs": [],
   "source": [
    "fig = figure()\n",
    "ax = fig.add_subplot(111)\n",
    "count = 0\n",
    "\n",
    "for filename in filenames[5::12]:\n",
    "      \n",
    "    data = get_data(filename)\n",
    "    l, = ax.plot(data[0], data[1], label = filename)\n",
    "    ax.legend(loc=4)\n",
    "\n",
    "ax.set_xlim([300,850])\n",
    "ax.set_ylim([0,100])\n",
    "ax.set_xlabel('$\\lambda$ $(nm)$')\n",
    "ax.set_ylabel('$T$')\n",
    "\n",
    "    \n",
    "    "
   ]
  },
  {
   "cell_type": "code",
   "execution_count": null,
   "metadata": {
    "collapsed": true
   },
   "outputs": [],
   "source": []
  },
  {
   "cell_type": "code",
   "execution_count": null,
   "metadata": {
    "collapsed": true
   },
   "outputs": [],
   "source": []
  }
 ],
 "metadata": {
  "anaconda-cloud": {},
  "kernelspec": {
   "display_name": "Python [Root]",
   "language": "python",
   "name": "Python [Root]"
  },
  "language_info": {
   "codemirror_mode": {
    "name": "ipython",
    "version": 3
   },
   "file_extension": ".py",
   "mimetype": "text/x-python",
   "name": "python",
   "nbconvert_exporter": "python",
   "pygments_lexer": "ipython3",
   "version": "3.5.2"
  }
 },
 "nbformat": 4,
 "nbformat_minor": 0
}
